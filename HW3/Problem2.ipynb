{
  "nbformat": 4,
  "nbformat_minor": 0,
  "metadata": {
    "colab": {
      "provenance": [],
      "authorship_tag": "ABX9TyNde3pubPJx46Q5PfXPmww2",
      "include_colab_link": true
    },
    "kernelspec": {
      "name": "python3",
      "display_name": "Python 3"
    },
    "language_info": {
      "name": "python"
    }
  },
  "cells": [
    {
      "cell_type": "markdown",
      "metadata": {
        "id": "view-in-github",
        "colab_type": "text"
      },
      "source": [
        "<a href=\"https://colab.research.google.com/github/tc10767557/AI/blob/main/HW3/Problem2.ipynb\" target=\"_parent\"><img src=\"https://colab.research.google.com/assets/colab-badge.svg\" alt=\"Open In Colab\"/></a>"
      ]
    },
    {
      "cell_type": "markdown",
      "source": [
        "Teagan Clark\n",
        "\n",
        "Dr. Forouraghi\n",
        "\n",
        "Artificial Intelligence\n",
        "\n",
        "21 October 2025"
      ],
      "metadata": {
        "id": "sDn0AtXP3ls-"
      }
    },
    {
      "cell_type": "markdown",
      "source": [
        "#Assignment 3\n",
        "##Problem 2\n",
        "\n",
        "Coded in PyCharm, then copied to Colab to submit to GitHub. The code does not work in Colab! Please use PyCharm (or another IDE) to run this code."
      ],
      "metadata": {
        "id": "sEeWSJRS3qGg"
      }
    },
    {
      "cell_type": "code",
      "source": [
        "# imports\n",
        "import tkinter as tk\n",
        "from queue import PriorityQueue\n",
        "import math, random"
      ],
      "metadata": {
        "id": "R5SINlMcwkwi"
      },
      "execution_count": null,
      "outputs": []
    },
    {
      "cell_type": "code",
      "source": [
        "# cell to store f(), g() and h() values\n",
        "class Cell:\n",
        "    def __init__(self, x, y, is_wall=False):\n",
        "        self.x = x\n",
        "        self.y = y\n",
        "        self.is_wall = is_wall\n",
        "        self.g = float(\"inf\")\n",
        "        self.h = 0\n",
        "        self.f = float(\"inf\")\n",
        "        self.parent = None\n",
        "\n",
        "    def __lt__(self, other):\n",
        "        return self.f < other.f"
      ],
      "metadata": {
        "id": "rkSduBvGwlnX"
      },
      "execution_count": null,
      "outputs": []
    },
    {
      "cell_type": "code",
      "source": [
        "# MazeGame to visualize the pathfinding algorithms\n",
        "class MazeGame:\n",
        "    def __init__(self, root, maze, algorithm=\"A*\"):\n",
        "        self.root = root\n",
        "        self.maze = maze\n",
        "        self.algorithm = algorithm   # \"A*\" or \"Greedy\"\n",
        "\n",
        "        self.rows = len(maze)\n",
        "        self.cols = len(maze[0])\n",
        "\n",
        "        # start and goal positions (like in assignment image)\n",
        "        self.agent_pos = (13, 4)\n",
        "        self.goal_pos = (21, 20)\n",
        "\n",
        "        self.cells = [[Cell(x, y, maze[x][y] == 1) for y in range(self.cols)] for x in range(self.rows)]\n",
        "\n",
        "        # initialize start cell\n",
        "        start = self.cells[self.agent_pos[0]][self.agent_pos[1]]\n",
        "        start.g = 0\n",
        "        start.h = self.heuristic(self.agent_pos)\n",
        "        start.f = start.h if algorithm == \"Greedy\" else start.g + start.h\n",
        "\n",
        "        # visualization settings\n",
        "        self.cell_size = 20\n",
        "        self.canvas = tk.Canvas(root, width=self.cols * self.cell_size,\n",
        "                                height=self.rows * self.cell_size, bg='white')\n",
        "        self.canvas.pack()\n",
        "\n",
        "        self.draw_maze()\n",
        "        self.find_path()\n",
        "\n",
        "\n",
        "    # Euclidean distance heuristic\n",
        "    def heuristic(self, pos):\n",
        "        dx = pos[0] - self.goal_pos[0]\n",
        "        dy = pos[1] - self.goal_pos[1]\n",
        "        return math.sqrt(dx*dx + dy*dy)\n",
        "\n",
        "\n",
        "    # pathfinding (A* or Greedy Best-First)\n",
        "    def find_path(self):\n",
        "        open_set = PriorityQueue()\n",
        "        open_set.put((0, self.agent_pos))\n",
        "\n",
        "        # 8 possible movement directions\n",
        "        directions = [(0, 1), (0, -1), (1, 0), (-1, 0),\n",
        "                      (1, 1), (1, -1), (-1, 1), (-1, -1)]\n",
        "\n",
        "        while not open_set.empty():\n",
        "            current_cost, current_pos = open_set.get()\n",
        "            current_cell = self.cells[current_pos[0]][current_pos[1]]\n",
        "\n",
        "            if current_pos == self.goal_pos:\n",
        "                self.reconstruct_path()\n",
        "                break\n",
        "\n",
        "            # choose directions randomly\n",
        "            random.shuffle(directions)\n",
        "\n",
        "            for dx, dy in directions:\n",
        "                new_pos = (current_pos[0] + dx, current_pos[1] + dy)\n",
        "                if (0 <= new_pos[0] < self.rows and 0 <= new_pos[1] < self.cols\n",
        "                    and not self.cells[new_pos[0]][new_pos[1]].is_wall):\n",
        "\n",
        "                    new_cell = self.cells[new_pos[0]][new_pos[1]]\n",
        "\n",
        "                    # cost = 1 for straight, sqrt(2) for diagonal\n",
        "                    move_cost = math.sqrt(2) if dx != 0 and dy != 0 else 1\n",
        "                    tentative_g = current_cell.g + move_cost\n",
        "\n",
        "                    # change based on algorithm (A* uses g + h; Greedy uses only h)\n",
        "                    if self.algorithm == \"Greedy\":\n",
        "                        new_f = self.heuristic(new_pos)\n",
        "                    else:\n",
        "                        new_f = tentative_g + self.heuristic(new_pos)\n",
        "\n",
        "                    if new_f < new_cell.f:\n",
        "                        new_cell.g = tentative_g\n",
        "                        new_cell.h = self.heuristic(new_pos)\n",
        "                        new_cell.f = new_f\n",
        "                        new_cell.parent = current_cell\n",
        "                        open_set.put((new_cell.f, new_pos))\n",
        "\n",
        "\n",
        "    # draw maze\n",
        "    def draw_maze(self):\n",
        "        for x in range(self.rows):\n",
        "            for y in range(self.cols):\n",
        "                color = 'maroon' if self.maze[x][y] == 1 else 'white'\n",
        "                self.canvas.create_rectangle(\n",
        "                    y * self.cell_size, x * self.cell_size,\n",
        "                    (y + 1) * self.cell_size, (x + 1) * self.cell_size, fill=color)\n",
        "\n",
        "        # draw start and goal cells\n",
        "        sx, sy = self.agent_pos\n",
        "        gx, gy = self.goal_pos\n",
        "        self.canvas.create_rectangle(\n",
        "            sy * self.cell_size, sx * self.cell_size,\n",
        "            (sy + 1) * self.cell_size, (sx + 1) * self.cell_size, fill='blue')\n",
        "        self.canvas.create_rectangle(\n",
        "            gy * self.cell_size, gx * self.cell_size,\n",
        "            (gy + 1) * self.cell_size, (gx + 1) * self.cell_size, fill='red')\n",
        "\n",
        "        self.canvas.create_text(\n",
        "            self.cols * self.cell_size / 2,\n",
        "            self.rows * self.cell_size + 10,\n",
        "            text=f\"Algorithm: {self.algorithm}\",\n",
        "            anchor=\"n\", font=(\"Purisa\", 14, \"bold\"), fill=\"black\")\n",
        "\n",
        "\n",
        "    # trace final path\n",
        "    def reconstruct_path(self):\n",
        "        current_cell = self.cells[self.goal_pos[0]][self.goal_pos[1]]\n",
        "        while current_cell.parent:\n",
        "            x, y = current_cell.x, current_cell.y\n",
        "            self.canvas.create_rectangle(\n",
        "                y * self.cell_size, x * self.cell_size,\n",
        "                (y + 1) * self.cell_size, (x + 1) * self.cell_size,\n",
        "                fill='green')\n",
        "            current_cell = current_cell.parent"
      ],
      "metadata": {
        "id": "Myu8gq9Dwn3T"
      },
      "execution_count": null,
      "outputs": []
    },
    {
      "cell_type": "code",
      "source": [
        "# maze setup (25x25)\n",
        "maze = [\n",
        "    [0,0,0,0,0,0,0,0,0,0,0,0,0,0,0,0,0,0,0,0,0,0,0,0,0],\n",
        "    [0,0,0,0,0,0,0,0,0,0,0,0,0,0,0,0,0,0,0,0,0,0,0,0,0],\n",
        "    [0,0,0,0,0,0,0,0,0,0,0,0,0,0,0,0,0,0,0,0,0,0,0,0,0],\n",
        "    [0,0,0,0,0,0,0,0,0,0,0,0,0,0,0,0,0,0,0,0,0,0,0,0,0],\n",
        "    [0,0,0,0,0,0,0,0,0,0,0,0,0,0,0,0,0,0,0,0,0,0,0,0,0],\n",
        "    [0,0,0,0,0,1,1,1,1,1,1,1,1,1,1,1,1,1,1,1,0,0,0,0,0],\n",
        "    [0,0,0,0,0,0,0,0,0,0,0,0,0,0,0,0,0,0,0,1,0,0,0,0,0],\n",
        "    [0,0,0,0,0,0,0,0,0,0,0,0,0,0,0,0,0,0,0,1,0,0,0,0,0],\n",
        "    [0,0,0,0,0,0,0,0,0,0,0,0,0,0,0,0,0,0,0,1,0,0,0,0,0],\n",
        "    [0,0,0,0,0,0,0,0,0,0,0,0,0,0,0,0,0,0,0,1,0,0,0,0,0],\n",
        "    [0,0,0,0,0,0,0,0,0,0,0,0,0,0,0,0,0,0,0,1,0,0,0,0,0],\n",
        "    [0,0,0,0,0,0,0,0,0,0,0,0,0,0,0,0,0,0,0,1,0,0,0,0,0],\n",
        "    [0,0,0,0,0,0,0,0,0,0,0,0,0,0,0,0,0,0,0,1,0,0,0,0,0],\n",
        "    [0,0,0,0,0,0,0,0,0,0,0,0,0,0,0,0,0,0,0,1,0,0,0,0,0],\n",
        "    [0,0,0,0,0,0,0,0,0,0,0,0,0,0,0,0,0,0,0,1,0,0,0,0,0],\n",
        "    [0,0,0,0,0,0,0,0,0,0,0,0,0,0,0,0,0,0,0,1,0,0,0,0,0],\n",
        "    [0,0,0,0,0,0,0,0,0,0,0,0,0,0,0,0,0,0,0,1,0,0,0,0,0],\n",
        "    [0,0,0,0,0,0,0,0,0,0,0,0,0,0,0,0,0,0,0,1,0,0,0,0,0],\n",
        "    [0,0,0,0,0,0,0,0,0,0,0,0,0,0,0,0,0,0,0,1,0,0,0,0,0],\n",
        "    [0,0,0,0,0,0,0,0,0,0,0,0,0,0,0,0,0,0,0,1,0,0,0,0,0],\n",
        "    [0,0,0,0,0,1,1,1,1,1,1,1,1,1,1,1,1,1,1,1,0,0,0,0,0],\n",
        "    [0,0,0,0,0,0,0,0,0,0,0,0,0,0,0,0,0,0,0,0,0,0,0,0,0],\n",
        "    [0,0,0,0,0,0,0,0,0,0,0,0,0,0,0,0,0,0,0,0,0,0,0,0,0],\n",
        "    [0,0,0,0,0,0,0,0,0,0,0,0,0,0,0,0,0,0,0,0,0,0,0,0,0],\n",
        "    [0,0,0,0,0,0,0,0,0,0,0,0,0,0,0,0,0,0,0,0,0,0,0,0,0]\n",
        "]"
      ],
      "metadata": {
        "id": "gyL76N5XwpnA"
      },
      "execution_count": null,
      "outputs": []
    },
    {
      "cell_type": "code",
      "execution_count": 3,
      "metadata": {
        "id": "BAaIdr64Tdh8"
      },
      "outputs": [],
      "source": [
        "# GUI for both algorithms\n",
        "root1 = tk.Tk()\n",
        "root1.title(\"A* Search (Euclidean + Diagonal)\")\n",
        "game_astar = MazeGame(root1, maze, algorithm=\"A*\")\n",
        "\n",
        "root2 = tk.Toplevel()\n",
        "root2.title(\"Greedy Best-First Search (Euclidean + Diagonal)\")\n",
        "game_greedy = MazeGame(root2, maze, algorithm=\"Greedy\")\n",
        "\n",
        "tk.mainloop()"
      ]
    }
  ]
}