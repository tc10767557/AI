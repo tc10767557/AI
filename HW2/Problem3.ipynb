{
  "nbformat": 4,
  "nbformat_minor": 0,
  "metadata": {
    "colab": {
      "provenance": [],
      "authorship_tag": "ABX9TyMOgQjCCRXi407gmuZQQAef",
      "include_colab_link": true
    },
    "kernelspec": {
      "name": "python3",
      "display_name": "Python 3"
    },
    "language_info": {
      "name": "python"
    }
  },
  "cells": [
    {
      "cell_type": "markdown",
      "metadata": {
        "id": "view-in-github",
        "colab_type": "text"
      },
      "source": [
        "<a href=\"https://colab.research.google.com/github/tc10767557/AI/blob/main/HW2/Problem3.ipynb\" target=\"_parent\"><img src=\"https://colab.research.google.com/assets/colab-badge.svg\" alt=\"Open In Colab\"/></a>"
      ]
    },
    {
      "cell_type": "markdown",
      "source": [
        "Teagan Clark\n",
        "\n",
        "Dr. Forouraghi\n",
        "\n",
        "Artificial Intelligence\n",
        "\n",
        "26 September 2025"
      ],
      "metadata": {
        "id": "jFK7Lkki9Zi7"
      }
    },
    {
      "cell_type": "markdown",
      "source": [
        "#Assignment 2\n",
        "##Problem 3"
      ],
      "metadata": {
        "id": "1wTxegfaSn9T"
      }
    },
    {
      "cell_type": "code",
      "source": [
        "# import doubly-ended queue\n",
        "from collections import deque"
      ],
      "metadata": {
        "id": "Oe0x5LvcI2RU"
      },
      "execution_count": null,
      "outputs": []
    },
    {
      "cell_type": "code",
      "source": [
        "# create a DFS (like example code)\n",
        "def DFS(graph, root):\n",
        "\n",
        "  visited, queue = set(), deque([root])\n",
        "  visited.add(root)\n",
        "\n",
        "  while queue:\n",
        "    vertex = queue.pop()\n",
        "\n",
        "    for neighbor in reversed(graph[vertex]):\n",
        "      if neighbor not in visited:\n",
        "        visited.add(neighbor)\n",
        "        queue.append(neighbor)\n",
        "\n",
        "  # print based on DFS result\n",
        "  if \"Goal\" in visited:\n",
        "      print(\"Goal visited\\n SUCCESS\")\n",
        "  if \"Goal\" not in visited:\n",
        "      print(\"Goal not visited\\nFAILURE\")"
      ],
      "metadata": {
        "id": "4BV9rRf8H7qD"
      },
      "execution_count": null,
      "outputs": []
    },
    {
      "cell_type": "code",
      "execution_count": null,
      "metadata": {
        "id": "D3Zc3dmlECaG"
      },
      "outputs": [],
      "source": [
        "# create graph \"G,\" where maze is treated as a 10 x 5 grid\n",
        "                                                                                                                                                                                          # ok this is probably inefficient but it works idk I tried\n",
        "G = {\n",
        "  \"Root\": [\"1\"],          # start\n",
        "  \"1\": [\"2\", \"11\"],\n",
        "  \"2\": [\"1\", \"3\"],\n",
        "  \"3\": [\"2\", \"13\"],\n",
        "  \"4\": [\"14\", \"5\"],\n",
        "  \"5\": [\"4\", \"6\"],\n",
        "  \"6\": [\"5\", \"16\"],\n",
        "  \"7\": [\"8\", \"17\"],\n",
        "  \"8\": [\"7\", \"9\"],\n",
        "  \"9\": [\"8\", \"10\"],\n",
        "  \"10\": [\"9\", \"20\"],\n",
        "  \"11\": [\"1\", \"21\"],\n",
        "  \"12\": [\"13\"],\n",
        "  \"13\": [\"3\", \"12\"],\n",
        "  \"14\": [\"4\", \"15\"],\n",
        "  \"15\": [\"14\", \"25\"],\n",
        "  \"16\": [\"6\", \"17\"],\n",
        "  \"17\": [\"7\", \"16\", \"27\"],\n",
        "  \"18\": [\"28\"],\n",
        "  \"19\": [\"20\", \"29\"],\n",
        "  \"20\": [\"10\", \"19\"],\n",
        "  \"21\": [\"11\", \"22\"],\n",
        "  \"22\": [\"21\", \"32\"],\n",
        "  \"23\": [\"24\", \"33\"],\n",
        "  \"24\": [\"23\"],\n",
        "  \"25\": [\"15\", \"26\", \"35\"],\n",
        "  \"26\": [\"25\", \"36\"],\n",
        "  \"27\": [\"17\", \"28\"],\n",
        "  \"28\": [\"18\", \"27\"],\n",
        "  \"29\": [\"19\", \"39\"],\n",
        "  \"30\": [\"40\"],\n",
        "  \"31\": [\"32\", \"41\"],\n",
        "  \"32\": [\"22\", \"31\", \"33\"],\n",
        "  \"33\": [\"23\", \"32\"],\n",
        "  \"34\": [\"35\", \"44\"],\n",
        "  \"35\": [\"25\", \"24\", \"45\"],\n",
        "  \"36\": [\"26\", \"37\"],\n",
        "  \"37\": [\"36\"],\n",
        "  \"38\": [\"39\", \"48\"],\n",
        "  \"39\": [\"29\", \"38\", \"40\"],\n",
        "  \"40\": [\"30\", \"39\"],\n",
        "  \"41\": [\"31\", \"42\"],\n",
        "  \"42\": [\"41\", \"43\"],\n",
        "  \"43\": [\"42\", \"44\"],\n",
        "  \"44\": [\"34\", \"43\"],\n",
        "  \"45\": [\"35\", \"46\"],\n",
        "  \"46\": [\"45\"],\n",
        "  \"47\": [\"48\"],\n",
        "  \"48\": [\"38\", \"47\", \"49\"],\n",
        "  \"49\": [\"48\", \"50\"],\n",
        "  \"50\": [\"49\", \"Goal\"],\n",
        "  \"Goal\": []\n",
        "}"
      ]
    },
    {
      "cell_type": "code",
      "source": [
        "DFS(G, 'Root')"
      ],
      "metadata": {
        "colab": {
          "base_uri": "https://localhost:8080/"
        },
        "id": "O5s3NNP6Ix9F",
        "outputId": "b38e9112-6d5d-41cb-cbbd-7eb9bbdfb7ce"
      },
      "execution_count": null,
      "outputs": [
        {
          "output_type": "stream",
          "name": "stdout",
          "text": [
            "Goal visited\n",
            " SUCCESS\n"
          ]
        }
      ]
    },
    {
      "cell_type": "code",
      "execution_count": null,
      "metadata": {
        "id": "irD59o8JJPaN"
      },
      "outputs": [],
      "source": [
        "# create graph \"G2,\" with change at 22-32 border\n",
        "G2 = {\n",
        "  \"Root\": [\"1\"],          # start\n",
        "  \"1\": [\"2\", \"11\"],\n",
        "  \"2\": [\"1\", \"3\"],\n",
        "  \"3\": [\"2\", \"13\"],\n",
        "  \"4\": [\"14\", \"5\"],\n",
        "  \"5\": [\"4\", \"6\"],\n",
        "  \"6\": [\"5\", \"16\"],\n",
        "  \"7\": [\"8\", \"17\"],\n",
        "  \"8\": [\"7\", \"9\"],\n",
        "  \"9\": [\"8\", \"10\"],\n",
        "  \"10\": [\"9\", \"20\"],\n",
        "  \"11\": [\"1\", \"21\"],\n",
        "  \"12\": [\"13\"],\n",
        "  \"13\": [\"3\", \"12\"],\n",
        "  \"14\": [\"4\", \"15\"],\n",
        "  \"15\": [\"14\", \"25\"],\n",
        "  \"16\": [\"6\", \"17\"],\n",
        "  \"17\": [\"7\", \"16\", \"27\"],\n",
        "  \"18\": [\"28\"],\n",
        "  \"19\": [\"20\", \"29\"],\n",
        "  \"20\": [\"10\", \"19\"],\n",
        "  \"21\": [\"11\", \"22\"],\n",
        "  \"22\": [\"21\"],\n",
        "  \"23\": [\"24\", \"33\"],\n",
        "  \"24\": [\"23\"],\n",
        "  \"25\": [\"15\", \"26\", \"35\"],\n",
        "  \"26\": [\"25\", \"36\"],\n",
        "  \"27\": [\"17\", \"28\"],\n",
        "  \"28\": [\"18\", \"27\"],\n",
        "  \"29\": [\"19\", \"39\"],\n",
        "  \"30\": [\"40\"],\n",
        "  \"31\": [\"32\", \"41\"],\n",
        "  \"32\": [\"31\", \"33\"],\n",
        "  \"33\": [\"23\", \"32\"],\n",
        "  \"34\": [\"35\", \"44\"],\n",
        "  \"35\": [\"25\", \"24\", \"45\"],\n",
        "  \"36\": [\"26\", \"37\"],\n",
        "  \"37\": [\"36\"],\n",
        "  \"38\": [\"39\", \"48\"],\n",
        "  \"39\": [\"29\", \"38\", \"40\"],\n",
        "  \"40\": [\"30\", \"39\"],\n",
        "  \"41\": [\"31\", \"42\"],\n",
        "  \"42\": [\"41\", \"43\"],\n",
        "  \"43\": [\"42\", \"44\"],\n",
        "  \"44\": [\"34\", \"43\"],\n",
        "  \"45\": [\"35\", \"46\"],\n",
        "  \"46\": [\"45\"],\n",
        "  \"47\": [\"48\"],\n",
        "  \"48\": [\"38\", \"47\", \"49\"],\n",
        "  \"49\": [\"48\", \"50\"],\n",
        "  \"50\": [\"49\", \"Goal\"],\n",
        "  \"Goal\": []\n",
        "}"
      ]
    },
    {
      "cell_type": "code",
      "source": [
        "DFS(G2, \"Root\")"
      ],
      "metadata": {
        "colab": {
          "base_uri": "https://localhost:8080/"
        },
        "id": "_mXK9QA-JxOw",
        "outputId": "d96731a9-db2d-4f01-bac3-8a99be1c7f4b"
      },
      "execution_count": null,
      "outputs": [
        {
          "output_type": "stream",
          "name": "stdout",
          "text": [
            "Goal not visited\n",
            "FAILURE\n"
          ]
        }
      ]
    }
  ]
}