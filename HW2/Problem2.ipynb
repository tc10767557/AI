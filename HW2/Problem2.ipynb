{
  "nbformat": 4,
  "nbformat_minor": 0,
  "metadata": {
    "colab": {
      "provenance": [],
      "authorship_tag": "ABX9TyOqEbRc4sDgxZWcnXwSOuR1",
      "include_colab_link": true
    },
    "kernelspec": {
      "name": "python3",
      "display_name": "Python 3"
    },
    "language_info": {
      "name": "python"
    }
  },
  "cells": [
    {
      "cell_type": "markdown",
      "metadata": {
        "id": "view-in-github",
        "colab_type": "text"
      },
      "source": [
        "<a href=\"https://colab.research.google.com/github/tc10767557/AI/blob/main/HW2/Problem2.ipynb\" target=\"_parent\"><img src=\"https://colab.research.google.com/assets/colab-badge.svg\" alt=\"Open In Colab\"/></a>"
      ]
    },
    {
      "cell_type": "markdown",
      "source": [
        "Teagan Clark\n",
        "\n",
        "Dr. Forouraghi\n",
        "\n",
        "Artificial Intelligence\n",
        "\n",
        "26 September 2025"
      ],
      "metadata": {
        "id": "jFK7Lkki9Zi7"
      }
    },
    {
      "cell_type": "markdown",
      "source": [
        "#Assignment 2\n",
        "##Problem 2"
      ],
      "metadata": {
        "id": "Xqjzv-a99upP"
      }
    },
    {
      "cell_type": "code",
      "source": [
        "# import doubly-ended queue\n",
        "from collections import deque"
      ],
      "metadata": {
        "id": "yqrdY-W_9a2V"
      },
      "execution_count": null,
      "outputs": []
    },
    {
      "cell_type": "code",
      "source": [
        "# create a BFS with a \"K\" term for \"2nd-level friend(s)\"\n",
        "def PotentialFriends(G, start, K=2):\n",
        "  visited = set()\n",
        "  queue = deque([(start, 0)])\n",
        "  visited.add(start)\n",
        "  result = []\n",
        "\n",
        "  while queue:\n",
        "    vertex, level = queue.popleft()\n",
        "\n",
        "    if level < K:\n",
        "      for neighbor in G[vertex]:\n",
        "        if neighbor not in visited:\n",
        "          visited.add(neighbor)\n",
        "          queue.append((neighbor, level + 1))\n",
        "\n",
        "    if level == K:\n",
        "      result.append(vertex)\n",
        "\n",
        "  return result"
      ],
      "metadata": {
        "id": "N4jHRXp-4UXj"
      },
      "execution_count": null,
      "outputs": []
    },
    {
      "cell_type": "code",
      "source": [
        "# create graph \"G\"\n",
        "G = {\n",
        "  \"Adam\": [\"Maria\"],\n",
        "  \"Maria\": [\"Adam\", \"Sophia\", \"Maya\", \"David\"],\n",
        "  \"Sophia\": [\"Maria\", \"Maya\"],\n",
        "  \"Maya\": [\"Maria\", \"Sophia\", \"David\"],\n",
        "  \"David\": [\"Maria\", \"Maya\"],\n",
        "}"
      ],
      "metadata": {
        "id": "g7LP4p884bU4"
      },
      "execution_count": null,
      "outputs": []
    },
    {
      "cell_type": "code",
      "source": [
        "# test algorithm for Adam\n",
        "PotentialFriends(G, \"Adam\")"
      ],
      "metadata": {
        "colab": {
          "base_uri": "https://localhost:8080/"
        },
        "id": "8z3HZ7WIApk6",
        "outputId": "4a087259-ff69-4ae3-961b-84eb9719ba54"
      },
      "execution_count": null,
      "outputs": [
        {
          "output_type": "execute_result",
          "data": {
            "text/plain": [
              "['Sophia', 'Maya', 'David']"
            ]
          },
          "metadata": {},
          "execution_count": 4
        }
      ]
    },
    {
      "cell_type": "code",
      "source": [
        "# test algorithm for David\n",
        "PotentialFriends(G, \"David\")"
      ],
      "metadata": {
        "colab": {
          "base_uri": "https://localhost:8080/"
        },
        "id": "LPlImrTrDfnH",
        "outputId": "6ea8bf9e-e4ff-472a-eb07-c382c83d461f"
      },
      "execution_count": null,
      "outputs": [
        {
          "output_type": "execute_result",
          "data": {
            "text/plain": [
              "['Adam', 'Sophia']"
            ]
          },
          "metadata": {},
          "execution_count": 5
        }
      ]
    },
    {
      "cell_type": "code",
      "source": [
        "# test algorithm for Sophia\n",
        "PotentialFriends(G, \"Sophia\")"
      ],
      "metadata": {
        "colab": {
          "base_uri": "https://localhost:8080/"
        },
        "id": "F8_R0hwTDi4E",
        "outputId": "dd63294c-d143-4269-c05d-d4121cfa4210"
      },
      "execution_count": null,
      "outputs": [
        {
          "output_type": "execute_result",
          "data": {
            "text/plain": [
              "['Adam', 'David']"
            ]
          },
          "metadata": {},
          "execution_count": 6
        }
      ]
    }
  ]
}