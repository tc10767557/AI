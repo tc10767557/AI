{
  "nbformat": 4,
  "nbformat_minor": 0,
  "metadata": {
    "colab": {
      "provenance": [],
      "authorship_tag": "ABX9TyPYvJ86nSKsc1BTkUjVvWHF",
      "include_colab_link": true
    },
    "kernelspec": {
      "name": "python3",
      "display_name": "Python 3"
    },
    "language_info": {
      "name": "python"
    }
  },
  "cells": [
    {
      "cell_type": "markdown",
      "metadata": {
        "id": "view-in-github",
        "colab_type": "text"
      },
      "source": [
        "<a href=\"https://colab.research.google.com/github/tc10767557/AI/blob/main/AI/HW2/Problem1.ipynb\" target=\"_parent\"><img src=\"https://colab.research.google.com/assets/colab-badge.svg\" alt=\"Open In Colab\"/></a>"
      ]
    },
    {
      "cell_type": "markdown",
      "source": [
        "Teagan Clark\n",
        "\n",
        "Dr. Forouraghi\n",
        "\n",
        "Artificial Intelligence\n",
        "\n",
        "26 September 2025"
      ],
      "metadata": {
        "id": "jFK7Lkki9Zi7"
      }
    },
    {
      "cell_type": "markdown",
      "source": [
        "#Assignment 2\n",
        "##Problem 1"
      ],
      "metadata": {
        "id": "Xqjzv-a99upP"
      }
    },
    {
      "cell_type": "code",
      "source": [
        "# import doubly-ended queue\n",
        "from collections import deque"
      ],
      "metadata": {
        "id": "yqrdY-W_9a2V"
      },
      "execution_count": null,
      "outputs": []
    },
    {
      "cell_type": "code",
      "source": [
        "# create a BFS with a \"K\" term for \"k-th level friend(s)\"\n",
        "def FindFriends(G, start, K):\n",
        "  visited = set()\n",
        "  queue = deque([(start, 0)])\n",
        "  visited.add(start)\n",
        "  result = []\n",
        "\n",
        "  while queue:\n",
        "    vertex, level = queue.popleft()\n",
        "\n",
        "    # ex: if K = 3, add lower level to visited and move up one level\n",
        "    if level < K:\n",
        "      for neighbor in G[vertex]:\n",
        "        if neighbor not in visited:\n",
        "          visited.add(neighbor)\n",
        "          queue.append((neighbor, level + 1))\n",
        "\n",
        "    # ex: if K = 3, return 3rd-level friend(s)\n",
        "    if level == K:\n",
        "      result.append(vertex)\n",
        "\n",
        "  return result"
      ],
      "metadata": {
        "id": "PmADJSFREtwQ"
      },
      "execution_count": null,
      "outputs": []
    },
    {
      "cell_type": "code",
      "source": [
        "# create graph \"G\"\n",
        "G = {\n",
        "  \"Bob\": [\"Rob\", \"Richard\", \"Pam\"],\n",
        "  \"Rob\": [\"Bob\"],\n",
        "  \"Richard\": [\"Bob\"],\n",
        "  \"Pam\": [\"Bob\", \"Roger\", \"Peter\"],\n",
        "  \"Roger\": [\"Pam\", \"Anna\"],\n",
        "  \"Anna\": [\"Roger\"],\n",
        "  \"Peter\": [\"Pam\", \"Amy\"],\n",
        "  \"Amy\": [\"Peter\"]\n",
        "}"
      ],
      "metadata": {
        "id": "K7kSO0AnH11M"
      },
      "execution_count": null,
      "outputs": []
    },
    {
      "cell_type": "code",
      "source": [
        "# test algorithm\n",
        "friends = FindFriends(G, \"Bob\", 3)\n",
        "print(\"3rd-level friends of Bob:\", friends)"
      ],
      "metadata": {
        "colab": {
          "base_uri": "https://localhost:8080/"
        },
        "id": "ZBV99EGXH3b3",
        "outputId": "c1143e33-0032-4530-e758-9db516c57578"
      },
      "execution_count": null,
      "outputs": [
        {
          "output_type": "stream",
          "name": "stdout",
          "text": [
            "3rd-level friends of Bob: ['Anna', 'Amy']\n"
          ]
        }
      ]
    },
    {
      "cell_type": "code",
      "source": [
        "# another test\n",
        "friends = FindFriends(G, \"Pam\", 2)\n",
        "print(\"2nd-level friends of Pam:\", friends)"
      ],
      "metadata": {
        "colab": {
          "base_uri": "https://localhost:8080/"
        },
        "id": "lb-Adlr3Kxac",
        "outputId": "10fc279b-98ab-4712-dc32-481b61604016"
      },
      "execution_count": null,
      "outputs": [
        {
          "output_type": "stream",
          "name": "stdout",
          "text": [
            "2nd-level friends of Pam: ['Rob', 'Richard', 'Anna', 'Amy']\n"
          ]
        }
      ]
    }
  ]
}